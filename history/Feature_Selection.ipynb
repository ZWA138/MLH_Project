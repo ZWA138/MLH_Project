{
  "nbformat": 4,
  "nbformat_minor": 0,
  "metadata": {
    "colab": {
      "provenance": [],
      "toc_visible": true
    },
    "kernelspec": {
      "name": "python3",
      "display_name": "Python 3"
    },
    "language_info": {
      "name": "python"
    }
  },
  "cells": [
    {
      "cell_type": "markdown",
      "source": [
        "# COMP90089 Assignment 1: Digital Phenotypes"
      ],
      "metadata": {
        "id": "tXSmakEBxO4C"
      }
    },
    {
      "cell_type": "markdown",
      "source": [
        "# Code"
      ],
      "metadata": {
        "id": "kl5Hw8REqIaV"
      }
    },
    {
      "cell_type": "code",
      "execution_count": null,
      "metadata": {
        "id": "6cA1fp1GPkhZ"
      },
      "outputs": [],
      "source": [
        "# Enviroment Setup\n",
        "from datetime import timedelta\n",
        "import os\n",
        "\n",
        "import numpy as np\n",
        "import pandas as pd\n",
        "import re\n",
        "import matplotlib.pyplot as plt\n",
        "import matplotlib.dates as mdates\n",
        "\n",
        "from IPython.display import display, HTML, Image\n",
        "%matplotlib inline\n",
        "\n",
        "plt.style.use('ggplot')\n",
        "plt.rcParams.update({'font.size': 20})\n",
        "\n",
        "# Access data using Google BigQuery.\n",
        "from google.colab import auth\n",
        "from google.cloud import bigquery\n",
        "\n",
        "# authenticate\n",
        "auth.authenticate_user()\n",
        "\n",
        "# Set up environment variables\n",
        "project_id = 'model-wave-394405'\n",
        "os.environ[\"GOOGLE_CLOUD_PROJECT\"] = project_id\n",
        "\n",
        "# Read data from BigQuery into pandas dataframes.\n",
        "def run_query(query, project_id=project_id):\n",
        "  return pd.io.gbq.read_gbq(\n",
        "      query,\n",
        "      project_id=project_id,\n",
        "      dialect='standard')\n",
        "\n",
        "# set the dataset\n",
        "dataset = 'mimiciv'"
      ]
    },
    {
      "cell_type": "markdown",
      "source": [
        "# SQL code for data retrieving\n"
      ],
      "metadata": {
        "id": "HoZmEcABNiiE"
      }
    },
    {
      "cell_type": "code",
      "source": [
        "from google.cloud import bigquery\n",
        "\n",
        "client = bigquery.Client()\n"
      ],
      "metadata": {
        "id": "tB6Gi9b2j_It"
      },
      "execution_count": null,
      "outputs": []
    },
    {
      "cell_type": "code",
      "source": [
        "stroke_diagnoses_query = \"\"\"\n",
        "SELECT DISTINCT hadm_id\n",
        "FROM `physionet-data.mimiciv_hosp.diagnoses_icd`\n",
        "WHERE icd_version = 10\n",
        "AND (icd_code LIKE 'I63%' OR icd_code LIKE 'I61%')\n",
        "\"\"\"\n",
        "\n",
        "stroke_diagnoses = client.query(stroke_diagnoses_query).to_dataframe()\n",
        "stroke_hadm_ids = stroke_diagnoses['hadm_id'].tolist()\n",
        "\n"
      ],
      "metadata": {
        "id": "xvYcSVMIQ4iZ"
      },
      "execution_count": null,
      "outputs": []
    },
    {
      "cell_type": "code",
      "source": [],
      "metadata": {
        "id": "qVJAW16FwyeV"
      },
      "execution_count": null,
      "outputs": []
    },
    {
      "cell_type": "code",
      "source": [
        "demographics_query = \"\"\"\n",
        "SELECT\n",
        "    p.subject_id,\n",
        "    p.gender,\n",
        "    p.anchor_age AS age,\n",
        "    a.race,\n",
        "    a.hadm_id\n",
        "FROM\n",
        "    `physionet-data.mimiciv_hosp.patients` AS p\n",
        "JOIN\n",
        "    `physionet-data.mimiciv_hosp.admissions` AS a\n",
        "ON\n",
        "    p.subject_id = a.subject_id\n",
        "WHERE\n",
        "    a.hadm_id IN UNNEST(@hadm_ids)\n",
        "\"\"\"\n",
        "\n",
        "job_config = bigquery.QueryJobConfig(\n",
        "    query_parameters=[\n",
        "        bigquery.ArrayQueryParameter(\"hadm_ids\", \"INT64\", stroke_hadm_ids)\n",
        "    ]\n",
        ")\n",
        "\n",
        "demographics = client.query(demographics_query, job_config=job_config).to_dataframe()\n",
        "print(demographics.shape)\n"
      ],
      "metadata": {
        "colab": {
          "base_uri": "https://localhost:8080/"
        },
        "id": "ZIIlIXFPkqS8",
        "outputId": "d57b3d97-dd64-427a-90f8-d536ad980876"
      },
      "execution_count": null,
      "outputs": [
        {
          "output_type": "stream",
          "name": "stdout",
          "text": [
            "(3966, 5)\n"
          ]
        }
      ]
    },
    {
      "cell_type": "code",
      "source": [
        "icu_stays_query = \"\"\"\n",
        "SELECT\n",
        "    icu.subject_id,\n",
        "    icu.hadm_id,\n",
        "    icu.stay_id,\n",
        "    icu.intime AS icu_intime,\n",
        "    icu.outtime AS icu_outtime\n",
        "FROM\n",
        "    `physionet-data.mimiciv_icu.icustays` AS icu\n",
        "WHERE\n",
        "    icu.hadm_id IN UNNEST(@hadm_ids)\n",
        "\"\"\"\n",
        "\n",
        "icu_stays = client.query(icu_stays_query, job_config=job_config).to_dataframe()\n"
      ],
      "metadata": {
        "id": "sBz_UZzHRkrI"
      },
      "execution_count": null,
      "outputs": []
    },
    {
      "cell_type": "code",
      "source": [
        "lab_items_query = \"\"\"\n",
        "SELECT itemid, label\n",
        "FROM `physionet-data.mimiciv_hosp.d_labitems`\n",
        "WHERE label IN ('Anion Gap', 'Bicarbonate', 'Chloride', 'Red Blood Cells', 'White Blood Cells')\n",
        "\"\"\"\n",
        "\n",
        "lab_items = client.query(lab_items_query).to_dataframe()\n",
        "lab_itemids = lab_items['itemid'].tolist()\n",
        "print(lab_items)\n"
      ],
      "metadata": {
        "id": "HMCSAVWWRp0F",
        "collapsed": true,
        "colab": {
          "base_uri": "https://localhost:8080/"
        },
        "outputId": "b6efc442-7069-4ee5-83a6-c3a61de4a7dc"
      },
      "execution_count": null,
      "outputs": [
        {
          "output_type": "stream",
          "name": "stdout",
          "text": [
            "   itemid              label\n",
            "0   50868          Anion Gap\n",
            "1   50882        Bicarbonate\n",
            "2   50902           Chloride\n",
            "3   51755  White Blood Cells\n",
            "4   51756  White Blood Cells\n",
            "5   52500          Anion Gap\n",
            "6   52535           Chloride\n",
            "7   51279    Red Blood Cells\n",
            "8   51301  White Blood Cells\n"
          ]
        }
      ]
    },
    {
      "cell_type": "code",
      "source": [
        "lab_events_query = \"\"\"\n",
        "SELECT\n",
        "    le.subject_id,\n",
        "    le.hadm_id,\n",
        "    le.itemid,\n",
        "    le.charttime,\n",
        "    le.value,\n",
        "    le.valuenum,\n",
        "    le.valueuom\n",
        "FROM\n",
        "    `physionet-data.mimiciv_hosp.labevents` AS le\n",
        "JOIN\n",
        "    `physionet-data.mimiciv_icu.icustays` AS icu\n",
        "ON\n",
        "    le.subject_id = icu.subject_id\n",
        "    AND le.hadm_id = icu.hadm_id\n",
        "WHERE\n",
        "    le.hadm_id IN UNNEST(@hadm_ids)\n",
        "    AND le.itemid IN UNNEST(@lab_itemids)\n",
        "    AND DATETIME_DIFF(le.charttime, icu.intime, HOUR) BETWEEN 0 AND 24\n",
        "\"\"\"\n",
        "\n",
        "lab_events_job_config = bigquery.QueryJobConfig(\n",
        "    query_parameters=[\n",
        "        bigquery.ArrayQueryParameter(\"hadm_ids\", \"INT64\", stroke_hadm_ids),\n",
        "        bigquery.ArrayQueryParameter(\"lab_itemids\", \"INT64\", lab_itemids)\n",
        "    ]\n",
        ")\n",
        "\n",
        "lab_events = client.query(lab_events_query, job_config=lab_events_job_config).to_dataframe()\n"
      ],
      "metadata": {
        "id": "4aVgkY0rOjsr",
        "collapsed": true
      },
      "execution_count": null,
      "outputs": []
    },
    {
      "cell_type": "code",
      "source": [
        "vital_items_query = \"\"\"\n",
        "SELECT itemid, label\n",
        "FROM `physionet-data.mimiciv_icu.d_items`\n",
        "WHERE label IN (\n",
        "    'Heart Rate',\n",
        "    'Respiratory Rate',\n",
        "    'Non Invasive Blood Pressure systolic',\n",
        "    'Non Invasive Blood Pressure diastolic',\n",
        "    'SpO2'\n",
        ")\n",
        "\"\"\"\n",
        "\n",
        "vital_items = client.query(vital_items_query).to_dataframe()\n",
        "vital_itemids = vital_items['itemid'].tolist()\n"
      ],
      "metadata": {
        "id": "adM6UzUORdU0",
        "collapsed": true
      },
      "execution_count": null,
      "outputs": []
    },
    {
      "cell_type": "code",
      "source": [
        "print(vital_items)"
      ],
      "metadata": {
        "id": "UyRJpYzGRtlZ",
        "collapsed": true,
        "colab": {
          "base_uri": "https://localhost:8080/"
        },
        "outputId": "6e572c8d-0e60-4fbb-cf06-2dea267c08c0"
      },
      "execution_count": null,
      "outputs": [
        {
          "output_type": "stream",
          "name": "stdout",
          "text": [
            "   itemid                                  label\n",
            "0  220210                       Respiratory Rate\n",
            "1  220045                             Heart Rate\n",
            "2  220179   Non Invasive Blood Pressure systolic\n",
            "3  220180  Non Invasive Blood Pressure diastolic\n"
          ]
        }
      ]
    },
    {
      "cell_type": "code",
      "source": [
        "vital_signs_query = \"\"\"\n",
        "SELECT\n",
        "    ce.subject_id,\n",
        "    ce.hadm_id,\n",
        "    ce.stay_id,\n",
        "    ce.itemid,\n",
        "    ce.charttime,\n",
        "    ce.valuenum,\n",
        "    ce.valueuom\n",
        "FROM\n",
        "    `physionet-data.mimiciv_icu.chartevents` AS ce\n",
        "JOIN\n",
        "    `physionet-data.mimiciv_icu.icustays` AS icu\n",
        "ON\n",
        "    ce.stay_id = icu.stay_id\n",
        "WHERE\n",
        "    ce.hadm_id IN UNNEST(@hadm_ids)\n",
        "    AND ce.itemid IN UNNEST(@vital_itemids)\n",
        "    AND DATETIME_DIFF(ce.charttime, icu.intime, HOUR) BETWEEN 0 AND 24\n",
        "\"\"\"\n",
        "\n",
        "vital_signs_job_config = bigquery.QueryJobConfig(\n",
        "    query_parameters=[\n",
        "        bigquery.ArrayQueryParameter(\"hadm_ids\", \"INT64\", stroke_hadm_ids),\n",
        "        bigquery.ArrayQueryParameter(\"vital_itemids\", \"INT64\", vital_itemids)\n",
        "    ]\n",
        ")\n",
        "\n",
        "vital_signs = client.query(vital_signs_query, job_config=vital_signs_job_config).to_dataframe()\n"
      ],
      "metadata": {
        "id": "VcAAUJ8ssDmf"
      },
      "execution_count": null,
      "outputs": []
    },
    {
      "cell_type": "code",
      "source": [
        "gcs_items_query = \"\"\"\n",
        "SELECT itemid, label\n",
        "FROM `physionet-data.mimiciv_icu.d_items`\n",
        "WHERE label IN (\n",
        "    'GCS - Eye Opening',\n",
        "    'GCS - Motor Response',\n",
        "    'GCS - Verbal Response'\n",
        ")\n",
        "\"\"\"\n",
        "\n",
        "gcs_items = client.query(gcs_items_query).to_dataframe()\n",
        "gcs_itemids = gcs_items['itemid'].tolist()\n"
      ],
      "metadata": {
        "id": "LViy_L_UlXCr"
      },
      "execution_count": null,
      "outputs": []
    },
    {
      "cell_type": "code",
      "source": [
        "gcs_data_query = \"\"\"\n",
        "SELECT\n",
        "    ce.subject_id,\n",
        "    ce.hadm_id,\n",
        "    ce.stay_id,\n",
        "    ce.itemid,\n",
        "    ce.charttime,\n",
        "    ce.value,\n",
        "    ce.valuenum\n",
        "FROM\n",
        "    `physionet-data.mimiciv_icu.chartevents` AS ce\n",
        "JOIN\n",
        "    `physionet-data.mimiciv_icu.icustays` AS icu\n",
        "ON\n",
        "    ce.stay_id = icu.stay_id\n",
        "WHERE\n",
        "    ce.hadm_id IN UNNEST(@hadm_ids)\n",
        "    AND ce.itemid IN UNNEST(@gcs_itemids)\n",
        "    AND DATETIME_DIFF(ce.charttime, icu.intime, HOUR) BETWEEN 0 AND 24\n",
        "\"\"\"\n",
        "\n",
        "gcs_data_job_config = bigquery.QueryJobConfig(\n",
        "    query_parameters=[\n",
        "        bigquery.ArrayQueryParameter(\"hadm_ids\", \"INT64\", stroke_hadm_ids),\n",
        "        bigquery.ArrayQueryParameter(\"gcs_itemids\", \"INT64\", gcs_itemids)\n",
        "    ]\n",
        ")\n",
        "\n",
        "gcs_data = client.query(gcs_data_query, job_config=gcs_data_job_config).to_dataframe()\n"
      ],
      "metadata": {
        "id": "Na8tNTcGlZ2W"
      },
      "execution_count": null,
      "outputs": []
    },
    {
      "cell_type": "code",
      "source": [
        "print(demographics.head())\n",
        "\n",
        "print(icu_stays.head())\n",
        "\n",
        "print(lab_events.head())\n",
        "\n",
        "print(vital_signs.head())\n",
        "\n",
        "print(gcs_data.head())\n"
      ],
      "metadata": {
        "colab": {
          "base_uri": "https://localhost:8080/"
        },
        "id": "fofgBYxmlgue",
        "outputId": "80259d20-a576-4508-b3e5-5bd2f114ed74"
      },
      "execution_count": null,
      "outputs": [
        {
          "output_type": "stream",
          "name": "stdout",
          "text": [
            "人口统计学数据:\n",
            "   subject_id gender  age                         race   hadm_id\n",
            "0    10822967      M   20       BLACK/AFRICAN AMERICAN  26681360\n",
            "1    16006168      M   20  HISPANIC/LATINO - DOMINICAN  29449066\n",
            "2    13419296      F   27                        WHITE  27921658\n",
            "3    17962479      F   27                        WHITE  25206309\n",
            "4    12342976      M   50                        WHITE  20894865\n",
            "\n",
            "ICU 入住时间:\n",
            "   subject_id   hadm_id   stay_id          icu_intime         icu_outtime\n",
            "0    10004113  29879900  35200789 2173-03-20 20:16:36 2173-03-21 21:43:59\n",
            "1    10103795  22741814  31411464 2176-07-01 19:45:36 2176-07-11 22:07:48\n",
            "2    10107132  27344948  30455932 2176-03-26 08:40:00 2176-03-26 23:01:42\n",
            "3    10132136  29646136  35896096 2160-01-31 05:49:00 2160-02-01 16:16:34\n",
            "4    10253146  26685114  33113606 2183-05-09 23:41:00 2183-05-14 17:29:34\n",
            "\n",
            "实验室检查结果:\n",
            "   subject_id   hadm_id  itemid           charttime value  valuenum valueuom\n",
            "0    10253146  26685114   51279 2183-05-10 09:15:00  3.80      3.80     m/uL\n",
            "1    10624313  23592737   51279 2118-08-24 11:30:00  4.04      4.04     m/uL\n",
            "2    10679181  21982353   51279 2168-02-04 13:33:00  4.36      4.36     m/uL\n",
            "3    10706693  29836224   51279 2135-04-28 07:00:00  4.26      4.26     m/uL\n",
            "4    10780769  21933195   51279 2151-05-26 03:06:00  4.33      4.33     m/uL\n",
            "\n",
            "生命体征数据:\n",
            "   subject_id   hadm_id   stay_id  itemid           charttime  valuenum  \\\n",
            "0    17375120  27025785  39661926  220179 2153-08-19 03:00:00     108.0   \n",
            "1    18777918  24753501  37270064  220179 2157-05-18 09:01:00     103.0   \n",
            "2    16359089  23982922  31959191  220179 2123-03-06 15:30:00     133.0   \n",
            "3    10198197  26942023  39575217  220179 2111-08-11 05:02:00     129.0   \n",
            "4    15971151  24917233  33754242  220179 2120-03-11 23:01:00     108.0   \n",
            "\n",
            "  valueuom  \n",
            "0     mmHg  \n",
            "1     mmHg  \n",
            "2     mmHg  \n",
            "3     mmHg  \n",
            "4     mmHg  \n",
            "\n",
            "GCS 评分数据:\n",
            "   subject_id   hadm_id   stay_id  itemid           charttime    value  \\\n",
            "0    17096041  24581169  32711073  220739 2120-12-17 13:00:00  To Pain   \n",
            "1    14217106  27197410  34831796  220739 2116-05-19 12:15:00  To Pain   \n",
            "2    12390105  24249228  39646937  220739 2126-12-25 22:00:00  To Pain   \n",
            "3    10864650  25070229  35720182  220739 2156-08-10 04:49:00  To Pain   \n",
            "4    10215159  24039782  38137388  220739 2127-12-22 16:00:00  To Pain   \n",
            "\n",
            "   valuenum  \n",
            "0       2.0  \n",
            "1       2.0  \n",
            "2       2.0  \n",
            "3       2.0  \n",
            "4       2.0  \n"
          ]
        }
      ]
    },
    {
      "cell_type": "markdown",
      "source": [
        "# Python code for data processing"
      ],
      "metadata": {
        "id": "qhzEF9LsNP2i"
      }
    },
    {
      "cell_type": "code",
      "source": [
        "lab_events_agg = lab_events.groupby(['hadm_id', 'itemid']).agg(\n",
        "    mean_value=('valuenum', 'mean'),\n",
        "    std_value=('valuenum', 'std')\n",
        ").reset_index()\n"
      ],
      "metadata": {
        "id": "jk2v8H0U1j4i"
      },
      "execution_count": null,
      "outputs": []
    },
    {
      "cell_type": "code",
      "source": [
        "vital_signs_agg = vital_signs.groupby(['hadm_id', 'itemid']).agg(\n",
        "    mean_value=('valuenum', 'mean'),\n",
        "    std_value=('valuenum', 'std')\n",
        ").reset_index()\n"
      ],
      "metadata": {
        "id": "7r3CS0I21m1W"
      },
      "execution_count": null,
      "outputs": []
    },
    {
      "cell_type": "code",
      "source": [
        "gcs_data_agg = gcs_data.groupby(['hadm_id', 'itemid']).agg(\n",
        "    mean_value=('valuenum', 'mean'),\n",
        "    std_value=('valuenum', 'std')\n",
        ").reset_index()\n"
      ],
      "metadata": {
        "id": "pqdpMVta1nX8"
      },
      "execution_count": null,
      "outputs": []
    },
    {
      "cell_type": "code",
      "source": [
        "lab_pivot = lab_events_agg.pivot_table(\n",
        "    index='hadm_id',\n",
        "    columns='itemid',\n",
        "    values=['mean_value', 'std_value']\n",
        ")\n",
        "\n",
        "lab_pivot.columns = [f'lab_{func}_{itemid}' for func, itemid in lab_pivot.columns]\n",
        "lab_pivot = lab_pivot.reset_index()\n"
      ],
      "metadata": {
        "id": "TcKdmG7I1roj"
      },
      "execution_count": null,
      "outputs": []
    },
    {
      "cell_type": "code",
      "source": [
        "vital_pivot = vital_signs_agg.pivot_table(\n",
        "    index='hadm_id',\n",
        "    columns='itemid',\n",
        "    values=['mean_value', 'std_value']\n",
        ")\n",
        "\n",
        "vital_pivot.columns = [f'vital_{func}_{itemid}' for func, itemid in vital_pivot.columns]\n",
        "vital_pivot = vital_pivot.reset_index()\n"
      ],
      "metadata": {
        "id": "1wHZgem61vEs"
      },
      "execution_count": null,
      "outputs": []
    },
    {
      "cell_type": "code",
      "source": [
        "gcs_pivot = gcs_data_agg.pivot_table(\n",
        "    index='hadm_id',\n",
        "    columns='itemid',\n",
        "    values=['mean_value', 'std_value']\n",
        ")\n",
        "\n",
        "gcs_pivot.columns = [f'gcs_{func}_{itemid}' for func, itemid in gcs_pivot.columns]\n",
        "gcs_pivot = gcs_pivot.reset_index()\n"
      ],
      "metadata": {
        "id": "KJgWkeha1v14"
      },
      "execution_count": null,
      "outputs": []
    },
    {
      "cell_type": "code",
      "source": [
        "mortality_info_query = \"\"\"\n",
        "SELECT\n",
        "    hadm_id,\n",
        "    CASE WHEN deathtime IS NOT NULL THEN 1 ELSE 0 END AS mortality\n",
        "FROM\n",
        "    `physionet-data.mimiciv_hosp.admissions`\n",
        "WHERE\n",
        "    hadm_id IN UNNEST(@hadm_ids)\n",
        "\"\"\"\n",
        "\n",
        "job_config = bigquery.QueryJobConfig(\n",
        "    query_parameters=[\n",
        "        bigquery.ArrayQueryParameter(\"hadm_ids\", \"INT64\", stroke_hadm_ids)\n",
        "    ]\n",
        ")\n",
        "\n",
        "mortality_info = client.query(mortality_info_query, job_config=job_config).to_dataframe()\n"
      ],
      "metadata": {
        "id": "cl6aVI8l15lp"
      },
      "execution_count": null,
      "outputs": []
    },
    {
      "cell_type": "code",
      "source": [
        "print(mortality_info)\n",
        "mortality_rate = mortality_info['mortality'].mean()\n",
        "print(f\"Mortality Rate: {mortality_rate}\")\n",
        "print(icu_stays.head())"
      ],
      "metadata": {
        "colab": {
          "base_uri": "https://localhost:8080/"
        },
        "id": "GJNMwdDd2OZy",
        "outputId": "ac56a44c-3197-4c8d-92e5-76f53dfa46ce"
      },
      "execution_count": null,
      "outputs": [
        {
          "output_type": "stream",
          "name": "stdout",
          "text": [
            "       hadm_id  mortality\n",
            "0     28237094          1\n",
            "1     28899895          0\n",
            "2     27627470          0\n",
            "3     28844727          0\n",
            "4     29299221          0\n",
            "...        ...        ...\n",
            "3961  23920941          1\n",
            "3962  29266081          0\n",
            "3963  27334428          0\n",
            "3964  27282483          0\n",
            "3965  25307835          0\n",
            "\n",
            "[3966 rows x 2 columns]\n",
            "Mortality Rate: 0.12884518406454867\n",
            "   subject_id   hadm_id   stay_id          icu_intime         icu_outtime\n",
            "0    10004113  29879900  35200789 2173-03-20 20:16:36 2173-03-21 21:43:59\n",
            "1    10103795  22741814  31411464 2176-07-01 19:45:36 2176-07-11 22:07:48\n",
            "2    10107132  27344948  30455932 2176-03-26 08:40:00 2176-03-26 23:01:42\n",
            "3    10132136  29646136  35896096 2160-01-31 05:49:00 2160-02-01 16:16:34\n",
            "4    10253146  26685114  33113606 2183-05-09 23:41:00 2183-05-14 17:29:34\n"
          ]
        }
      ]
    },
    {
      "cell_type": "code",
      "source": [
        "print(f\"demographics_icu hadm_id 数量：{demographics['hadm_id'].nunique()}\")\n",
        "print(f\"demographics_icu 行数：{len(demographics)}\")\n"
      ],
      "metadata": {
        "colab": {
          "base_uri": "https://localhost:8080/"
        },
        "id": "vcZYXhLlDvrl",
        "outputId": "b06000b9-b30e-4dcd-a4d9-240ed7826a43"
      },
      "execution_count": null,
      "outputs": [
        {
          "output_type": "stream",
          "name": "stdout",
          "text": [
            "demographics_icu hadm_id 数量：3966\n",
            "demographics_icu 行数：3966\n"
          ]
        }
      ]
    },
    {
      "cell_type": "code",
      "source": [
        "data = demographics.merge(lab_pivot, on='hadm_id', how='left')\n",
        "data = data.merge(vital_pivot, on='hadm_id', how='left')\n",
        "data = data.merge(gcs_pivot, on='hadm_id', how='left')\n",
        "data = data.merge(mortality_info, on='hadm_id', how='left')"
      ],
      "metadata": {
        "id": "rthb5bsh3QGy"
      },
      "execution_count": null,
      "outputs": []
    },
    {
      "cell_type": "code",
      "source": [
        "print(data.shape)\n",
        "print(data.head())"
      ],
      "metadata": {
        "colab": {
          "base_uri": "https://localhost:8080/"
        },
        "id": "t8mk1uQD2Y_E",
        "outputId": "de410618-b661-4d59-8e28-9d7d838e567e"
      },
      "execution_count": null,
      "outputs": [
        {
          "output_type": "stream",
          "name": "stdout",
          "text": [
            "(3966, 30)\n",
            "   subject_id gender  age                         race   hadm_id  \\\n",
            "0    10822967      M   20       BLACK/AFRICAN AMERICAN  26681360   \n",
            "1    16006168      M   20  HISPANIC/LATINO - DOMINICAN  29449066   \n",
            "2    13419296      F   27                        WHITE  27921658   \n",
            "3    17962479      F   27                        WHITE  25206309   \n",
            "4    12342976      M   50                        WHITE  20894865   \n",
            "\n",
            "   lab_mean_value_50868  lab_mean_value_50882  lab_mean_value_50902  \\\n",
            "0                   NaN                   NaN                   NaN   \n",
            "1                   NaN                   NaN                   NaN   \n",
            "2                  12.0                  19.5                 108.0   \n",
            "3                  15.0                  22.0                 105.0   \n",
            "4                  15.0                  23.5                 102.0   \n",
            "\n",
            "   lab_mean_value_51279  lab_mean_value_51301  ...  vital_std_value_220179  \\\n",
            "0                   NaN                   NaN  ...                     NaN   \n",
            "1                   NaN                   NaN  ...               11.492751   \n",
            "2                  4.32                 11.50  ...                8.275801   \n",
            "3                  4.65                  8.55  ...               13.477087   \n",
            "4                  4.30                 17.80  ...               25.823862   \n",
            "\n",
            "   vital_std_value_220180  vital_std_value_220210  gcs_mean_value_220739  \\\n",
            "0                     NaN                     NaN                    NaN   \n",
            "1               13.424853                2.382576                    4.0   \n",
            "2                5.425250                3.447566                    3.0   \n",
            "3               12.463794                3.037954                    4.0   \n",
            "4               16.761533                3.832984                    4.0   \n",
            "\n",
            "   gcs_mean_value_223900  gcs_mean_value_223901  gcs_std_value_220739  \\\n",
            "0                    NaN                    NaN                   NaN   \n",
            "1                    5.0                    6.0                   0.0   \n",
            "2                    5.0                    6.0                   0.0   \n",
            "3                    5.0                    6.0                   0.0   \n",
            "4                    5.0                    6.0                   0.0   \n",
            "\n",
            "   gcs_std_value_223900  gcs_std_value_223901  mortality  \n",
            "0                   NaN                   NaN          0  \n",
            "1                   0.0                   0.0          0  \n",
            "2                   0.0                   0.0          0  \n",
            "3                   0.0                   0.0          0  \n",
            "4                   0.0                   0.0          1  \n",
            "\n",
            "[5 rows x 30 columns]\n"
          ]
        }
      ]
    },
    {
      "cell_type": "markdown",
      "source": [
        "# Feature Selection"
      ],
      "metadata": {
        "id": "9jW7L7lvCU19"
      }
    },
    {
      "cell_type": "code",
      "source": [
        "missing_values = data.isna().mean()\n",
        "print(missing_values)\n"
      ],
      "metadata": {
        "colab": {
          "base_uri": "https://localhost:8080/"
        },
        "id": "YHRChHyACZPw",
        "outputId": "576d0e17-f26b-4861-c473-95d3bf61037d"
      },
      "execution_count": null,
      "outputs": [
        {
          "output_type": "stream",
          "name": "stdout",
          "text": [
            "subject_id                 0.000000\n",
            "gender                     0.000000\n",
            "age                        0.000000\n",
            "race                       0.000000\n",
            "hadm_id                    0.000000\n",
            "lab_mean_value_50868       0.425618\n",
            "lab_mean_value_50882       0.425618\n",
            "lab_mean_value_50902       0.425618\n",
            "lab_mean_value_51279       0.427887\n",
            "lab_mean_value_51301       0.427887\n",
            "lab_std_value_50868        0.694655\n",
            "lab_std_value_50882        0.694150\n",
            "lab_std_value_50902        0.690368\n",
            "lab_std_value_51279        0.725920\n",
            "lab_std_value_51301        0.725920\n",
            "vital_mean_value_220045    0.389813\n",
            "vital_mean_value_220179    0.415280\n",
            "vital_mean_value_220180    0.415280\n",
            "vital_mean_value_220210    0.391326\n",
            "vital_std_value_220045     0.390318\n",
            "vital_std_value_220179     0.424609\n",
            "vital_std_value_220180     0.424609\n",
            "vital_std_value_220210     0.392587\n",
            "gcs_mean_value_220739      0.390822\n",
            "gcs_mean_value_223900      0.390822\n",
            "gcs_mean_value_223901      0.390822\n",
            "gcs_std_value_220739       0.396621\n",
            "gcs_std_value_223900       0.396873\n",
            "gcs_std_value_223901       0.397126\n",
            "mortality                  0.000000\n",
            "dtype: float64\n"
          ]
        }
      ]
    },
    {
      "cell_type": "code",
      "source": [
        "continuous_features = [col for col in data.columns if data[col].dtype != 'object']\n",
        "data[continuous_features] = data[continuous_features].fillna(data[continuous_features].mean())\n",
        "\n",
        "categorical_features = [col for col in data.columns if data[col].dtype == 'object']\n",
        "data[categorical_features] = data[categorical_features].fillna(data[categorical_features].mode().iloc[0])\n"
      ],
      "metadata": {
        "id": "i5iFzbLQNTcD"
      },
      "execution_count": null,
      "outputs": []
    },
    {
      "cell_type": "code",
      "source": [
        "print(data[continuous_features].describe())\n",
        "\n",
        "for col in categorical_features:\n",
        "    print(data[col].value_counts())\n"
      ],
      "metadata": {
        "colab": {
          "base_uri": "https://localhost:8080/"
        },
        "id": "Kk3b9DrbNbfe",
        "outputId": "bc653a41-8d3c-497c-da63-ad95f8e142a7"
      },
      "execution_count": null,
      "outputs": [
        {
          "output_type": "stream",
          "name": "stdout",
          "text": [
            "            subject_id        age          hadm_id  lab_mean_value_50868  \\\n",
            "count           3966.0     3966.0           3966.0           3966.000000   \n",
            "mean   15056943.998739  67.659859  24945685.469743             15.009737   \n",
            "std     2897755.593076  15.020458   2855128.522669              2.450135   \n",
            "min         10003299.0       18.0       20002506.0              6.000000   \n",
            "25%         12542518.0       58.0      22486773.25             14.000000   \n",
            "50%         15044222.0       69.0       24953339.5             15.009737   \n",
            "75%         17605186.5       79.0       27331772.0             15.009737   \n",
            "max         19989126.0       91.0       29999625.0             37.200000   \n",
            "\n",
            "       lab_mean_value_50882  lab_mean_value_50902  lab_mean_value_51279  \\\n",
            "count           3966.000000           3966.000000           3966.000000   \n",
            "mean              22.786547            103.681720              3.877743   \n",
            "std                2.492992              3.826906              0.555621   \n",
            "min                9.500000             73.666667              1.825000   \n",
            "25%               22.500000            103.000000              3.800000   \n",
            "50%               22.786547            103.681720              3.877743   \n",
            "75%               23.150000            104.333333              4.040000   \n",
            "max               37.333333            134.000000              6.400000   \n",
            "\n",
            "       lab_mean_value_51301  lab_std_value_50868  lab_std_value_50882  ...  \\\n",
            "count           3966.000000          3966.000000          3966.000000  ...   \n",
            "mean              11.350151             1.901382             1.723477  ...   \n",
            "std                7.112992             0.831779             0.782651  ...   \n",
            "min                0.350000             0.000000             0.000000  ...   \n",
            "25%                9.485000             1.901382             1.723477  ...   \n",
            "50%               11.350151             1.901382             1.723477  ...   \n",
            "75%               11.350151             1.901382             1.723477  ...   \n",
            "max              265.033333            14.748823            10.606602  ...   \n",
            "\n",
            "       vital_std_value_220179  vital_std_value_220180  vital_std_value_220210  \\\n",
            "count             3966.000000             3966.000000             3966.000000   \n",
            "mean                14.354061               29.709683                4.063253   \n",
            "std                  4.422133              448.562856                4.814030   \n",
            "min                  0.707107                0.000000                0.000000   \n",
            "25%                 12.670131                9.790317                3.345253   \n",
            "50%                 14.354061               16.766631                4.063253   \n",
            "75%                 14.402577               29.709683                4.063253   \n",
            "max                 65.053824            22945.629970              294.249080   \n",
            "\n",
            "       gcs_mean_value_220739  gcs_mean_value_223900  gcs_mean_value_223901  \\\n",
            "count            3966.000000            3966.000000            3966.000000   \n",
            "mean                3.099057               3.265190               5.253466   \n",
            "std                 0.802730               1.302473               0.987245   \n",
            "min                 1.000000               1.000000               1.000000   \n",
            "25%                 3.099057               3.000000               5.253466   \n",
            "50%                 3.099057               3.265190               5.253466   \n",
            "75%                 3.750000               4.281538               6.000000   \n",
            "max                 4.000000               5.000000               6.000000   \n",
            "\n",
            "       gcs_std_value_220739  gcs_std_value_223900  gcs_std_value_223901  \\\n",
            "count           3966.000000           3966.000000           3966.000000   \n",
            "mean               0.390246              0.327271              0.343821   \n",
            "std                0.315469              0.435225              0.468104   \n",
            "min                0.000000              0.000000              0.000000   \n",
            "25%                0.229416              0.000000              0.000000   \n",
            "50%                0.390246              0.327271              0.343821   \n",
            "75%                0.449776              0.327271              0.343821   \n",
            "max                1.732051              2.309401              2.886751   \n",
            "\n",
            "       mortality  \n",
            "count     3966.0  \n",
            "mean    0.128845  \n",
            "std     0.335071  \n",
            "min          0.0  \n",
            "25%          0.0  \n",
            "50%          0.0  \n",
            "75%          0.0  \n",
            "max          1.0  \n",
            "\n",
            "[8 rows x 28 columns]\n",
            "gender\n",
            "F    1994\n",
            "M    1972\n",
            "Name: count, dtype: int64\n",
            "race\n",
            "WHITE                                        2281\n",
            "UNKNOWN                                       496\n",
            "BLACK/AFRICAN AMERICAN                        420\n",
            "OTHER                                         148\n",
            "WHITE - OTHER EUROPEAN                         98\n",
            "WHITE - RUSSIAN                                57\n",
            "BLACK/CARIBBEAN ISLAND                         53\n",
            "ASIAN - CHINESE                                49\n",
            "BLACK/CAPE VERDEAN                             49\n",
            "HISPANIC/LATINO - PUERTO RICAN                 48\n",
            "ASIAN                                          45\n",
            "BLACK/AFRICAN                                  34\n",
            "HISPANIC/LATINO - DOMINICAN                    33\n",
            "PORTUGUESE                                     25\n",
            "WHITE - BRAZILIAN                              15\n",
            "ASIAN - SOUTH EAST ASIAN                       14\n",
            "PATIENT DECLINED TO ANSWER                     13\n",
            "WHITE - EASTERN EUROPEAN                       11\n",
            "ASIAN - ASIAN INDIAN                           11\n",
            "SOUTH AMERICAN                                  9\n",
            "HISPANIC/LATINO - SALVADORAN                    8\n",
            "HISPANIC/LATINO - CENTRAL AMERICAN              7\n",
            "HISPANIC/LATINO - GUATEMALAN                    7\n",
            "NATIVE HAWAIIAN OR OTHER PACIFIC ISLANDER       6\n",
            "HISPANIC/LATINO - CUBAN                         5\n",
            "HISPANIC/LATINO - MEXICAN                       5\n",
            "HISPANIC/LATINO - HONDURAN                      5\n",
            "HISPANIC/LATINO - COLUMBIAN                     4\n",
            "AMERICAN INDIAN/ALASKA NATIVE                   4\n",
            "ASIAN - KOREAN                                  3\n",
            "UNABLE TO OBTAIN                                2\n",
            "HISPANIC OR LATINO                              1\n",
            "Name: count, dtype: int64\n"
          ]
        }
      ]
    },
    {
      "cell_type": "code",
      "source": [
        "import seaborn as sns\n",
        "import matplotlib.pyplot as plt\n",
        "\n",
        "# for col in continuous_features:\n",
        "#     sns.histplot(data[col], kde=True)\n",
        "#     plt.title(f'Distribution of {col}')\n",
        "#     plt.show()\n"
      ],
      "metadata": {
        "id": "79YeFx_pNjs7"
      },
      "execution_count": null,
      "outputs": []
    },
    {
      "cell_type": "code",
      "source": [
        "correlations = []\n",
        "\n",
        "for col in continuous_features:\n",
        "    valid_idx = data[col].notnull() & data['mortality'].notnull()\n",
        "    x = data.loc[valid_idx, col]\n",
        "    y = data.loc[valid_idx, 'mortality']\n",
        "\n",
        "    corr, p_value = pointbiserialr(x, y)\n",
        "    correlations.append({\n",
        "        'variable': col,\n",
        "        'correlation': corr,\n",
        "        'p_value': p_value\n",
        "    })\n",
        "\n",
        "corr_df = pd.DataFrame(correlations)\n",
        "corr_df['abs_correlation'] = corr_df['correlation'].abs()\n",
        "\n",
        "corr_df = corr_df.sort_values(by='abs_correlation', ascending=False)\n",
        "\n",
        "print(corr_df[['variable', 'correlation', 'p_value']])\n"
      ],
      "metadata": {
        "colab": {
          "base_uri": "https://localhost:8080/"
        },
        "id": "bRF49sV7Ob16",
        "outputId": "2d0f92ac-ecd0-4f1d-ffa5-63f43eb44d33"
      },
      "execution_count": null,
      "outputs": [
        {
          "output_type": "stream",
          "name": "stdout",
          "text": [
            "                   variable  correlation        p_value\n",
            "27                mortality     1.000000   0.000000e+00\n",
            "23    gcs_mean_value_223901    -0.470802  5.415689e-218\n",
            "21    gcs_mean_value_220739    -0.457162  4.282939e-204\n",
            "22    gcs_mean_value_223900    -0.411594  5.155805e-162\n",
            "17   vital_std_value_220045     0.195609   1.683956e-35\n",
            "26     gcs_std_value_223901     0.179771   3.692452e-30\n",
            "3      lab_mean_value_50868     0.131797   7.825170e-17\n",
            "4      lab_mean_value_50882    -0.128017   5.832038e-16\n",
            "7      lab_mean_value_51301     0.126874   1.057848e-15\n",
            "13  vital_mean_value_220045     0.126333   1.399789e-15\n",
            "18   vital_std_value_220179     0.123329   6.484735e-15\n",
            "6      lab_mean_value_51279    -0.117182   1.332693e-13\n",
            "16  vital_mean_value_220210     0.109749   4.198383e-12\n",
            "14  vital_mean_value_220179    -0.106125   2.081706e-11\n",
            "1                       age     0.102118   1.149805e-10\n",
            "10      lab_std_value_50902     0.084890   8.601192e-08\n",
            "8       lab_std_value_50868     0.077136   1.153546e-06\n",
            "24     gcs_std_value_220739     0.050562   1.446324e-03\n",
            "5      lab_mean_value_50902     0.044470   5.093625e-03\n",
            "12      lab_std_value_51301     0.041668   8.679629e-03\n",
            "25     gcs_std_value_223900    -0.031828   4.503742e-02\n",
            "9       lab_std_value_50882     0.030004   5.884210e-02\n",
            "15  vital_mean_value_220180    -0.026144   9.972428e-02\n",
            "11      lab_std_value_51279    -0.020866   1.889227e-01\n",
            "20   vital_std_value_220210     0.020683   1.928277e-01\n",
            "19   vital_std_value_220180    -0.011185   4.813001e-01\n",
            "0                subject_id     0.009687   5.419407e-01\n",
            "2                   hadm_id    -0.004906   7.574026e-01\n"
          ]
        }
      ]
    }
  ]
}